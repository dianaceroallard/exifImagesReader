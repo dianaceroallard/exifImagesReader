{
 "cells": [
  {
   "cell_type": "code",
   "execution_count": 7,
   "metadata": {},
   "outputs": [
    {
     "name": "stdout",
     "output_type": "stream",
     "text": [
      "<class 'list'>\n",
      "<class 'list'>\n"
     ]
    }
   ],
   "source": [
    "import pandas as pd\n",
    "import glob\n",
    "from PIL import Image\n",
    "\n",
    "image_list = []\n",
    "image_exif = []\n",
    "pathfiles = 'pathfolder/*'\n",
    "for filename in glob.glob(pathfiles):\n",
    "    im=Image.open(filename)\n",
    "    img_exif=im.getexif()\n",
    "    image_exif.append(img_exif)\n",
    "    image_list.append(im)\n",
    "\n",
    "print(type(image_list))\n",
    "print(type(image_exif))\n",
    "\n",
    "df_exifs=pd.DataFrame(image_exif)\n",
    "pathfilecsvout= r'pathfilename.csv'\n",
    "df_exifs.to_csv(pathfilecsvout)"
   ]
  }
 ],
 "metadata": {
  "kernelspec": {
   "display_name": "Python 3",
   "language": "python",
   "name": "python3"
  },
  "language_info": {
   "codemirror_mode": {
    "name": "ipython",
    "version": 3
   },
   "file_extension": ".py",
   "mimetype": "text/x-python",
   "name": "python",
   "nbconvert_exporter": "python",
   "pygments_lexer": "ipython3",
   "version": "3.7.6"
  }
 },
 "nbformat": 4,
 "nbformat_minor": 4
}
